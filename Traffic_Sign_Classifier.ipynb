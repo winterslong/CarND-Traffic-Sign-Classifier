{
 "cells": [
  {
   "cell_type": "markdown",
   "metadata": {},
   "source": [
    "# Self-Driving Car Engineer Nanodegree\n",
    "\n",
    "## Deep Learning\n",
    "\n",
    "## Project: Build a Traffic Sign Recognition Classifier\n",
    "\n",
    "In this notebook, a template is provided for you to implement your functionality in stages, which is required to successfully complete this project. If additional code is required that cannot be included in the notebook, be sure that the Python code is successfully imported and included in your submission if necessary. \n",
    "\n",
    "> **Note**: Once you have completed all of the code implementations, you need to finalize your work by exporting the iPython Notebook as an HTML document. Before exporting the notebook to html, all of the code cells need to have been run so that reviewers can see the final implementation and output. You can then export the notebook by using the menu above and navigating to  \\n\",\n",
    "    \"**File -> Download as -> HTML (.html)**. Include the finished document along with this notebook as your submission. \n",
    "\n",
    "In addition to implementing code, there is a writeup to complete. The writeup should be completed in a separate file, which can be either a markdown file or a pdf document. There is a [write up template](https://github.com/udacity/CarND-Traffic-Sign-Classifier-Project/blob/master/writeup_template.md) that can be used to guide the writing process. Completing the code template and writeup template will cover all of the [rubric points](https://review.udacity.com/#!/rubrics/481/view) for this project.\n",
    "\n",
    "The [rubric](https://review.udacity.com/#!/rubrics/481/view) contains \"Stand Out Suggestions\" for enhancing the project beyond the minimum requirements. The stand out suggestions are optional. If you decide to pursue the \"stand out suggestions\", you can include the code in this Ipython notebook and also discuss the results in the writeup file.\n",
    "\n",
    "\n",
    ">**Note:** Code and Markdown cells can be executed using the **Shift + Enter** keyboard shortcut. In addition, Markdown cells can be edited by typically double-clicking the cell to enter edit mode."
   ]
  },
  {
   "cell_type": "markdown",
   "metadata": {},
   "source": [
    "---\n",
    "## Step 0: Load The Data"
   ]
  },
  {
   "cell_type": "code",
   "execution_count": 1,
   "metadata": {},
   "outputs": [],
   "source": [
    "\n",
    "import matplotlib.pyplot as plt\n",
    "import random\n",
    "import numpy as np\n",
    "import random\n",
    "import cv2\n",
    "\n",
    "from PIL import Image, ImageEnhance\n",
    "# Visualizations will be shown in the notebook.\n",
    "%matplotlib inline\n"
   ]
  },
  {
   "cell_type": "code",
   "execution_count": 2,
   "metadata": {},
   "outputs": [],
   "source": [
    "\n",
    "import tensorflow as tf\n"
   ]
  },
  {
   "cell_type": "code",
   "execution_count": 3,
   "metadata": {},
   "outputs": [
    {
     "name": "stdout",
     "output_type": "stream",
     "text": [
      "\n",
      "Load data file completed.\n"
     ]
    }
   ],
   "source": [
    "# Load pickled data\n",
    "import pickle\n",
    "\n",
    "# TODO: Fill this in based on where you saved the training and testing data\n",
    "\n",
    "training_file = './data/train.p'\n",
    "validation_file= './data/valid.p'\n",
    "testing_file = './data/test.p'\n",
    "\n",
    "with open(training_file, mode='rb') as f:\n",
    "    train = pickle.load(f)\n",
    "with open(validation_file, mode='rb') as f:\n",
    "    valid = pickle.load(f)\n",
    "with open(testing_file, mode='rb') as f:\n",
    "    test = pickle.load(f)\n",
    "    \n",
    "# Load name of id\n",
    "with open(\"signnames.csv\", \"r\") as f:\n",
    "    signnames = f.read()\n",
    "id_to_name = { int(line.split(\",\")[0]):line.split(\",\")[1] for line in signnames.split(\"\\n\")[1:] if len(line) > 0}\n",
    "\n",
    "print(\"\\nLoad data file completed.\")"
   ]
  },
  {
   "cell_type": "code",
   "execution_count": 4,
   "metadata": {},
   "outputs": [],
   "source": [
    "\n",
    "X_train, y_train = train['features'], train['labels']\n",
    "X_valid, y_valid = valid['features'], valid['labels']\n",
    "X_test, y_test = test['features'], test['labels']\n"
   ]
  },
  {
   "cell_type": "code",
   "execution_count": 5,
   "metadata": {},
   "outputs": [
    {
     "name": "stdout",
     "output_type": "stream",
     "text": [
      "Image X_train.shape : (34799, 32, 32, 3)\n",
      "Image X_valid.shape : (4410, 32, 32, 3)\n",
      "Image X_test.shape  : (12630, 32, 32, 3)\n",
      "Labels y_train.shape: (34799,)\n",
      "Labels y_valid.shape: (4410,)\n",
      "Labels y_test.shape : (12630,)\n",
      "y_test[:10]= [16  1 38 33 11 38 18 12 25 35]\n",
      "\n",
      "signnames.csv content:\n",
      "0, Speed limit (20km/h)\n",
      "1, Speed limit (30km/h)\n",
      "2, Speed limit (50km/h)\n",
      "3, Speed limit (60km/h)\n",
      "4, Speed limit (70km/h)\n",
      "5, Speed limit (80km/h)\n",
      "6, End of speed limit (80km/h)\n",
      "7, Speed limit (100km/h)\n",
      "8, Speed limit (120km/h)\n",
      "9, No passing\n",
      "10, No passing for vehicles over 3.5 metric tons\n",
      "11, Right-of-way at the next intersection\n",
      "12, Priority road\n",
      "13, Yield\n",
      "14, Stop\n",
      "15, No vehicles\n",
      "16, Vehicles over 3.5 metric tons prohibited\n",
      "17, No entry\n",
      "18, General caution\n",
      "19, Dangerous curve to the left\n",
      "20, Dangerous curve to the right\n",
      "21, Double curve\n",
      "22, Bumpy road\n",
      "23, Slippery road\n",
      "24, Road narrows on the right\n",
      "25, Road work\n",
      "26, Traffic signals\n",
      "27, Pedestrians\n",
      "28, Children crossing\n",
      "29, Bicycles crossing\n",
      "30, Beware of ice/snow\n",
      "31, Wild animals crossing\n",
      "32, End of all speed and passing limits\n",
      "33, Turn right ahead\n",
      "34, Turn left ahead\n",
      "35, Ahead only\n",
      "36, Go straight or right\n",
      "37, Go straight or left\n",
      "38, Keep right\n",
      "39, Keep left\n",
      "40, Roundabout mandatory\n",
      "41, End of no passing\n",
      "42, End of no passing by vehicles over 3.5 metric tons\n",
      "\n",
      "X_img.shape:  (32, 32, 3)\n",
      "X_img[:1, :5, :]=\n",
      " [[[255 254 186]\n",
      "  [171 166 126]\n",
      "  [165 165  96]\n",
      "  [255 248 210]\n",
      "  [201 153 128]]]\n"
     ]
    },
    {
     "data": {
      "image/png": "[encoded data removed]",
      "text/plain": [
       "<matplotlib.figure.Figure at 0x7f1c70542fd0>"
      ]
     },
     "metadata": {
      "needs_background": "light"
     },
     "output_type": "display_data"
    }
   ],
   "source": [
    "print(\"Image X_train.shape : {}\".format(X_train.shape))\n",
    "print(\"Image X_valid.shape : {}\".format(X_valid.shape))\n",
    "print(\"Image X_test.shape  : {}\".format(X_test.shape))\n",
    "\n",
    "print(\"Labels y_train.shape: {}\".format(y_train.shape))\n",
    "print(\"Labels y_valid.shape: {}\".format(y_valid.shape))\n",
    "print(\"Labels y_test.shape : {}\".format(y_test.shape))\n",
    "print ('y_test[:10]=', y_test[:10])\n",
    "print()\n",
    "\n",
    "print(\"signnames.csv content:\")\n",
    "for i in range(len(id_to_name)):\n",
    "    print (\"%d, %s\" %( i, id_to_name[i]))\n",
    "################# show an example image ###########\n",
    "index = 7794\n",
    "X_img = X_train[index]\n",
    "\n",
    "plt.figure(figsize=(2,2))\n",
    "plt.imshow(X_img)\n",
    "img_title = 'y label=' +  str(y_train[index]) + ', ' + id_to_name[y_train[index]]\n",
    "plt.title(img_title)\n",
    "\n",
    "print()\n",
    "print(\"X_img.shape: \", X_img.shape)\n",
    "print('X_img[:1, :5, :]=\\n', X_img[:1, :5, :])\n"
   ]
  },
  {
   "cell_type": "markdown",
   "metadata": {},
   "source": [
    "---\n",
    "\n",
    "## Step 1: Dataset Summary & Exploration\n",
    "\n",
    "The pickled data is a dictionary with 4 key/value pairs:\n",
    "\n",
    "- `'features'` is a 4D array containing raw pixel data of the traffic sign images, (num examples, width, height, channels).\n",
    "- `'labels'` is a 1D array containing the label/class id of the traffic sign. The file `signnames.csv` contains id -> name mappings for each id.\n",
    "- `'sizes'` is a list containing tuples, (width, height) representing the original width and height the image.\n",
    "- `'coords'` is a list containing tuples, (x1, y1, x2, y2) representing coordinates of a bounding box around the sign in the image. **THESE COORDINATES ASSUME THE ORIGINAL IMAGE. THE PICKLED DATA CONTAINS RESIZED VERSIONS (32 by 32) OF THESE IMAGES**\n",
    "\n",
    "Complete the basic data summary below. Use python, numpy and/or pandas methods to calculate the data summary rather than hard coding the results. For example, the [pandas shape method](http://pandas.pydata.org/pandas-docs/stable/generated/pandas.DataFrame.shape.html) might be useful for calculating some of the summary results. "
   ]
  },
  {
   "cell_type": "markdown",
   "metadata": {},
   "source": [
    "### Provide a Basic Summary of the Data Set Using Python, Numpy and/or Pandas"
   ]
  },
  {
   "cell_type": "code",
   "execution_count": 6,
   "metadata": {},
   "outputs": [
    {
     "name": "stdout",
     "output_type": "stream",
     "text": [
      "Number of training examples = 34799\n",
      "Number of validation examples = 4410\n",
      "Number of testing examples = 12630\n",
      "Image data shape = (32, 32, 3)\n",
      "Number of classes = 43\n"
     ]
    }
   ],
   "source": [
    "### Replace each question mark with the appropriate value. \n",
    "### Use python, pandas or numpy methods rather than hard coding the results\n",
    "\n",
    "# TODO: Number of training examples\n",
    "n_train = len(X_train)\n",
    "\n",
    "# TODO: Number of validation examples\n",
    "n_validation = len(X_valid)\n",
    "\n",
    "# TODO: Number of testing examples.\n",
    "n_test = len(X_test)\n",
    "\n",
    "# TODO: What's the shape of an traffic sign image?\n",
    "image_shape = X_train[0].shape\n",
    "\n",
    "# TODO: How many unique classes/labels there are in the dataset.\n",
    "#n_classes = 43 #see signnames.csv\n",
    "#n_classes = len(np.unique(y_train))\n",
    "n_classes = len(set(y_train))   \n",
    "\n",
    "print(\"Number of training examples =\", n_train)\n",
    "print(\"Number of validation examples =\", n_validation)\n",
    "print(\"Number of testing examples =\", n_test)\n",
    "print(\"Image data shape =\", image_shape)\n",
    "print(\"Number of classes =\", n_classes)"
   ]
  },
  {
   "cell_type": "markdown",
   "metadata": {},
   "source": [
    "### Include an exploratory visualization of the dataset"
   ]
  },
  {
   "cell_type": "markdown",
   "metadata": {},
   "source": [
    "Visualize the German Traffic Signs Dataset using the pickled file(s). This is open ended, suggestions include: plotting traffic sign images, plotting the count of each sign, etc. \n",
    "\n",
    "The [Matplotlib](http://matplotlib.org/) [examples](http://matplotlib.org/examples/index.html) and [gallery](http://matplotlib.org/gallery.html) pages are a great resource for doing visualizations in Python.\n",
    "\n",
    "**NOTE:** It's recommended you start with something simple first. If you wish to do more, come back to it after you've completed the rest of the sections. It can be interesting to look at the distribution of classes in the training, validation and test set. Is the distribution the same? Are there more examples of some classes than others?"
   ]
  },
  {
   "cell_type": "code",
   "execution_count": 7,
   "metadata": {},
   "outputs": [
    {
     "name": "stdout",
     "output_type": "stream",
     "text": [
      "Training images: [5220, 8655, 9092, 5359, 7135, 367, 16413, 8426, 4658, 18392, 17566, 21001]\n"
     ]
    },
    {
     "data": {
      "image/png": "[encoded data removed]",
      "text/plain": [
       "<matplotlib.figure.Figure at 0x7f1ccc231080>"
      ]
     },
     "metadata": {
      "needs_background": "light"
     },
     "output_type": "display_data"
    },
    {
     "name": "stdout",
     "output_type": "stream",
     "text": [
      "Validation images: [5220, 8655, 9092, 5359, 7135, 367, 16413, 8426, 4658, 18392, 17566, 21001]\n"
     ]
    },
    {
     "data": {
      "image/png": "[encoded data removed]",
      "text/plain": [
       "<matplotlib.figure.Figure at 0x7f1c70363eb8>"
      ]
     },
     "metadata": {
      "needs_background": "light"
     },
     "output_type": "display_data"
    }
   ],
   "source": [
    "# Visualizations will be shown in the notebook.\n",
    "%matplotlib inline\n",
    "\n",
    "# generate set of random random numbers (12) between 0 and max of data\n",
    "indices = random.sample(range(n_train), 12) #random.randint(0, len(X_train))\n",
    "#show the training images\n",
    "print('Training images:', indices)\n",
    "plt.figure(figsize=(15,15))\n",
    "for i in range(len(indices)):   \n",
    "    image = X_train[indices[i]]\n",
    "    plt.subplot(1, 12, i+1)\n",
    "    plt.title(y_train[indices[i]])\n",
    "    plt.imshow(image)\n",
    "plt.show()\n",
    "\n",
    "#show the validation images\n",
    "print('Validation images:', indices)\n",
    "indices = random.sample(range(n_validation), 12)\n",
    "plt.figure(figsize=(15,15))\n",
    "for i in range(len(indices)):\n",
    "    image = X_valid[indices[i]]\n",
    "    plt.subplot(1,12,i+1)\n",
    "    plt.title(y_valid[indices[i]])\n",
    "    plt.imshow(image)\n",
    "\n",
    "plt.show()"
   ]
  },
  {
   "cell_type": "code",
   "execution_count": 8,
   "metadata": {},
   "outputs": [
    {
     "data": {
      "image/png": "[encoded data removed]",
      "text/plain": [
       "<matplotlib.figure.Figure at 0x7f1c70542b38>"
      ]
     },
     "metadata": {
      "needs_background": "light"
     },
     "output_type": "display_data"
    }
   ],
   "source": [
    "# histogram of label frequency\n",
    "hist, bins = np.histogram(y_train, bins=n_classes)\n",
    "width = 0.7 * (bins[1] - bins[0])\n",
    "center = (bins[:-1] + bins[1:]) / 2\n",
    "plt.bar(center, hist, align='center', width=width)\n",
    "plt.show()\n"
   ]
  },
  {
   "cell_type": "markdown",
   "metadata": {},
   "source": [
    "----\n",
    "\n",
    "## Step 2: Design and Test a Model Architecture\n",
    "\n",
    "Design and implement a deep learning model that learns to recognize traffic signs. Train and test your model on the [German Traffic Sign Dataset](http://benchmark.ini.rub.de/?section=gtsrb&subsection=dataset).\n",
    "\n",
    "The LeNet-5 implementation shown in the [classroom](https://classroom.udacity.com/nanodegrees/nd013/parts/fbf77062-5703-404e-b60c-95b78b2f3f9e/modules/6df7ae49-c61c-4bb2-a23e-6527e69209ec/lessons/601ae704-1035-4287-8b11-e2c2716217ad/concepts/d4aca031-508f-4e0b-b493-e7b706120f81) at the end of the CNN lesson is a solid starting point. You'll have to change the number of classes and possibly the preprocessing, but aside from that it's plug and play! \n",
    "\n",
    "With the LeNet-5 solution from the lecture, you should expect a validation set accuracy of about 0.89. To meet specifications, the validation set accuracy will need to be at least 0.93. It is possible to get an even higher accuracy, but 0.93 is the minimum for a successful project submission. \n",
    "\n",
    "There are various aspects to consider when thinking about this problem:\n",
    "\n",
    "- Neural network architecture (is the network over or underfitting?)\n",
    "- Play around preprocessing techniques (normalization, rgb to grayscale, etc)\n",
    "- Number of examples per label (some have more than others).\n",
    "- Generate fake data.\n",
    "\n",
    "Here is an example of a [published baseline model on this problem](http://yann.lecun.com/exdb/publis/pdf/sermanet-ijcnn-11.pdf). It's not required to be familiar with the approach used in the paper but, it's good practice to try to read papers like these."
   ]
  },
  {
   "cell_type": "code",
   "execution_count": 9,
   "metadata": {},
   "outputs": [
    {
     "name": "stdout",
     "output_type": "stream",
     "text": [
      "Shuffle (X_train, y_train)\n",
      "X_train.shape= (34799, 32, 32, 3)\n",
      "y_train.shape= (34799,)\n"
     ]
    },
    {
     "name": "stderr",
     "output_type": "stream",
     "text": [
      "/home/winterslong/anaconda3/envs/carnd-term1/lib/python3.5/site-packages/sklearn/utils/fixes.py:313: FutureWarning: numpy not_equal will not check object identity in the future. The comparison did not return the same result as suggested by the identity (`is`)) and will change.\n",
      "  _nan_object_mask = _nan_object_array != _nan_object_array\n"
     ]
    }
   ],
   "source": [
    "### Define your architecture here.\n",
    "### Feel free to use as many code cells as needed.\n",
    "from sklearn.utils import shuffle\n",
    "\n",
    "X_train, y_train = shuffle(X_train, y_train)\n",
    "\n",
    "\n",
    "print(\"Shuffle (X_train, y_train)\")\n",
    "print(\"X_train.shape=\", X_train.shape)\n",
    "print(\"y_train.shape=\", y_train.shape)"
   ]
  },
  {
   "cell_type": "markdown",
   "metadata": {},
   "source": [
    "### Pre-process the Data Set (normalization, grayscale, etc.)"
   ]
  },
  {
   "cell_type": "markdown",
   "metadata": {},
   "source": [
    "Minimally, the image data should be normalized so that the data has mean zero and equal variance. For image data, `(pixel - 128)/ 128` is a quick way to approximately normalize the data and can be used in this project. \n",
    "\n",
    "Other pre-processing steps are optional. You can try different techniques to see if it improves performance. \n",
    "\n",
    "Use the code cell (or multiple code cells, if necessary) to implement the first step of your project."
   ]
  },
  {
   "cell_type": "code",
   "execution_count": 10,
   "metadata": {},
   "outputs": [],
   "source": [
    "### Preprocess the data here. It is required to normalize the data. Other preprocessing steps could include \n",
    "### converting to grayscale, etc.\n",
    "### Feel free to use as many code cells as needed.\n",
    "def to_gray(image):\n",
    "    ''' Converts color image into grayscale image using \n",
    "        the built-in opencv function\n",
    "        Input: color image\n",
    "        Return: gray image (black and white image)\n",
    "    '''\n",
    "    return cv2.cvtColor(image, cv2.COLOR_RGB2GRAY)\n",
    "\n",
    "# Normalizing function\n",
    "def normalize_image(image):\n",
    "    ''' Normalizes input image to [-1, 1] based on the formula\n",
    "          (pixel - 128)/128 = (pixel/128) - 1\n",
    "        Input: grayscale image (It can actually take colored image as well)\n",
    "        Return: normalized image\n",
    "    '''\n",
    "    img = np.divide(image, 128)\n",
    "    image = np.subtract(img,1)\n",
    "    return image\n",
    "\n",
    "# Histogram equalization based on open-cv builtin library\n",
    "def hist_equalize(image):    \n",
    "    return cv2.equalizeHist(image) "
   ]
  },
  {
   "cell_type": "code",
   "execution_count": 11,
   "metadata": {},
   "outputs": [
    {
     "name": "stdout",
     "output_type": "stream",
     "text": [
      "Normalizing Training data ...\n",
      "Normalizing Validation data ...\n",
      "Normalizing Testing data ...\n",
      "Image X_train_norm.shape : (34799, 32, 32)\n",
      "Image X_valid_norm.shape : (4410, 32, 32)\n",
      "Image X_test_norm.shape  : (12630, 32, 32)\n",
      "--> Normalization completed\n"
     ]
    }
   ],
   "source": [
    "# Get the shapes of the datasets\n",
    "train_shape = X_train.shape\n",
    "valid_shape = X_valid.shape\n",
    "test_shape = X_test.shape\n",
    "\n",
    "# Convert the images in the datasets to grayscale images\n",
    "X_train_gray = np.zeros((n_train, train_shape[1], train_shape[2]))\n",
    "X_valid_gray = np.zeros((n_validation, valid_shape[1], valid_shape[2]))\n",
    "X_test_gray = np.zeros((n_test, test_shape[1], test_shape[2]))\n",
    "\n",
    "for n, img in enumerate(X_train):\n",
    "    X_train_gray[n] = hist_equalize(to_gray(img))\n",
    "for n, img in enumerate(X_valid):\n",
    "    X_valid_gray[n] = hist_equalize(to_gray(img))\n",
    "for n, img in enumerate(X_test):\n",
    "    X_test_gray[n] = hist_equalize(to_gray(img))\n",
    "\n",
    "# Normalize the training, testing and validating datasets\n",
    "X_train_norm = np.zeros((n_train, train_shape[1], train_shape[2]))\n",
    "X_valid_norm = np.zeros((n_validation, valid_shape[1], valid_shape[2]))\n",
    "X_test_norm = np.zeros((n_test, test_shape[1], test_shape[2]))\n",
    "\n",
    "print(\"Normalizing Training data ...\")\n",
    "\n",
    "for i, img in enumerate(X_train_gray):\n",
    "    X_train_norm[i] = normalize_image(img)   \n",
    "\n",
    "print(\"Normalizing Validation data ...\")\n",
    "for i, img in enumerate(X_valid_gray):\n",
    "    X_valid_norm[i] = normalize_image(img)  \n",
    "\n",
    "print(\"Normalizing Testing data ...\")\n",
    "for i, img in enumerate(X_test_gray): \n",
    "    X_test_norm[i] = normalize_image(img)\n",
    "\n",
    "    \n",
    "print(\"Image X_train_norm.shape : {}\".format(X_train_norm.shape))\n",
    "print(\"Image X_valid_norm.shape : {}\".format(X_valid_norm.shape))\n",
    "print(\"Image X_test_norm.shape  : {}\".format(X_test_norm.shape))\n",
    "\n",
    "# The following code simply adjusts the shape of the data to (None, 32,32,1)\n",
    "# The channel (depth) of the image was lost when converted to gray scale image\n",
    "X_train_norm = X_train_norm[..., None]\n",
    "X_valid_norm = X_valid_norm[..., None]\n",
    "X_test_norm = X_test_norm[..., None]\n",
    "    \n",
    "print('--> Normalization completed')\n"
   ]
  },
  {
   "cell_type": "code",
   "execution_count": 12,
   "metadata": {},
   "outputs": [
    {
     "name": "stdout",
     "output_type": "stream",
     "text": [
      "After pre-processed the data set:\n",
      "Image X_train_norm.shape : (34799, 32, 32, 1)\n",
      "Image X_valid_norm.shape : (4410, 32, 32, 1)\n",
      "Image X_test_norm.shape  : (12630, 32, 32, 1)\n",
      "Labels y_train.shape: (34799,)\n",
      "Labels y_valid.shape: (4410,)\n",
      "Labels y_test.shape : (12630,)\n"
     ]
    }
   ],
   "source": [
    "print(\"After pre-processed the data set:\")\n",
    "print(\"Image X_train_norm.shape : {}\".format(X_train_norm.shape))\n",
    "print(\"Image X_valid_norm.shape : {}\".format(X_valid_norm.shape))\n",
    "print(\"Image X_test_norm.shape  : {}\".format(X_test_norm.shape))\n",
    "\n",
    "print(\"Labels y_train.shape: {}\".format(y_train.shape))\n",
    "print(\"Labels y_valid.shape: {}\".format(y_valid.shape))\n",
    "print(\"Labels y_test.shape : {}\".format(y_test.shape))"
   ]
  },
  {
   "cell_type": "markdown",
   "metadata": {},
   "source": [
    "### Model Architecture"
   ]
  },
  {
   "cell_type": "markdown",
   "metadata": {},
   "source": [
    "### SOLUTION: Implement LeNet-5\n",
    "Implement the [LeNet-5](http://yann.lecun.com/exdb/lenet/) neural network architecture.\n",
    "\n",
    "This is the only cell you need to edit.\n",
    "#### Input\n",
    "The LeNet architecture accepts a 32x32xC image as input, where C is the number of color channels. Since Traffic Sign images are RGB, C is 3 in this case.\n",
    "\n",
    "#### Architecture\n",
    "**Layer 1: Convolutional.** The output shape should be 28x28x6.\n",
    "\n",
    "**Activation.** Your choice of activation function.\n",
    "\n",
    "**Pooling.** The output shape should be 14x14x6.\n",
    "\n",
    "**Layer 2: Convolutional.** The output shape should be 10x10x16.\n",
    "\n",
    "**Activation.** Your choice of activation function.\n",
    "\n",
    "**Pooling.** The output shape should be 5x5x16.\n",
    "\n",
    "**Flatten.** Flatten the output shape of the final pooling layer such that it's 1D instead of 3D. The easiest way to do is by using `tf.contrib.layers.flatten`, which is already imported for you.\n",
    "\n",
    "**Layer 3: Fully Connected.** This should have 120 outputs.\n",
    "\n",
    "**Activation.** Your choice of activation function.\n",
    "\n",
    "**Layer 4: Fully Connected.** This should have 84 outputs.\n",
    "\n",
    "**Activation.** Your choice of activation function.\n",
    "\n",
    "**Layer 5: Fully Connected (Logits).** This should have 43 outputs.\n",
    "\n",
    "#### Output\n",
    "Return the result of the 2nd fully connected layer."
   ]
  },
  {
   "cell_type": "code",
   "execution_count": 13,
   "metadata": {},
   "outputs": [
    {
     "name": "stdout",
     "output_type": "stream",
     "text": [
      "img_channel= 1\n"
     ]
    }
   ],
   "source": [
    "img_channel = X_train_norm.shape[3]\n",
    "print ('img_channel=', img_channel)\n",
    "\n",
    "EPOCHS = 10\n",
    "BATCH_SIZE = 128\n",
    "\n",
    "rate = 0.001\n",
    "\n",
    "save_modle_dir = './lenet_norm_equalizeHist/'"
   ]
  },
  {
   "cell_type": "code",
   "execution_count": 14,
   "metadata": {},
   "outputs": [],
   "source": [
    "from tensorflow.contrib.layers import flatten\n",
    "\n",
    "def LeNet(x):    \n",
    "    # Arguments used for tf.truncated_normal, randomly defines variables for the weights and biases for each layer\n",
    "    mu = 0\n",
    "    sigma = 0.1\n",
    "    \n",
    "    # SOLUTION: Layer 1: Convolutional. Input = 32x32ximg_channel. Output = 28x28x6.\n",
    "    conv1_W = tf.Variable(tf.truncated_normal(shape=(5, 5, img_channel, 6), mean = mu, stddev = sigma))\n",
    "    conv1_b = tf.Variable(tf.zeros(6))\n",
    "    conv1   = tf.nn.conv2d(x, conv1_W, strides=[1, 1, 1, 1], padding='VALID') + conv1_b\n",
    "\n",
    "    # SOLUTION: Activation.\n",
    "    conv1 = tf.nn.relu(conv1)\n",
    "\n",
    "    # SOLUTION: Pooling. Input = 28x28x6. Output = 14x14x6.\n",
    "    conv1 = tf.nn.max_pool(conv1, ksize=[1, 2, 2, 1], strides=[1, 2, 2, 1], padding='VALID')\n",
    "\n",
    "    # SOLUTION: Layer 2: Convolutional. Output = 10x10x16.\n",
    "    conv2_W = tf.Variable(tf.truncated_normal(shape=(5, 5, 6, 16), mean = mu, stddev = sigma))\n",
    "    conv2_b = tf.Variable(tf.zeros(16))\n",
    "    conv2   = tf.nn.conv2d(conv1, conv2_W, strides=[1, 1, 1, 1], padding='VALID') + conv2_b\n",
    "\n",
    "    # SOLUTION: Activation.\n",
    "    conv2 = tf.nn.relu(conv2)\n",
    "\n",
    "    # SOLUTION: Pooling. Input = 10x10x16. Output = 5x5x16.\n",
    "    conv2 = tf.nn.max_pool(conv2, ksize=[1, 2, 2, 1], strides=[1, 2, 2, 1], padding='VALID')\n",
    "\n",
    "    # SOLUTION: Flatten. Input = 5x5x16. Output = 400.\n",
    "    fc0   = flatten(conv2)\n",
    "    \n",
    "    # SOLUTION: Layer 3: Fully Connected. Input = 400. Output = 120.\n",
    "    fc1_W = tf.Variable(tf.truncated_normal(shape=(400, 120), mean = mu, stddev = sigma))\n",
    "    fc1_b = tf.Variable(tf.zeros(120))\n",
    "    fc1   = tf.matmul(fc0, fc1_W) + fc1_b\n",
    "    \n",
    "    # SOLUTION: Activation.\n",
    "    fc1    = tf.nn.relu(fc1)\n",
    "\n",
    "    # SOLUTION: Layer 4: Fully Connected. Input = 120. Output = 84.\n",
    "    fc2_W  = tf.Variable(tf.truncated_normal(shape=(120, 84), mean = mu, stddev = sigma))\n",
    "    fc2_b  = tf.Variable(tf.zeros(84))\n",
    "    fc2    = tf.matmul(fc1, fc2_W) + fc2_b\n",
    "    \n",
    "    # SOLUTION: Activation.\n",
    "    fc2    = tf.nn.relu(fc2)\n",
    "\n",
    "    # SOLUTION: Layer 5: Fully Connected. Input = 84. Output = 43.\n",
    "    fc3_W  = tf.Variable(tf.truncated_normal(shape=(84, 43), mean = mu, stddev = sigma))\n",
    "    fc3_b  = tf.Variable(tf.zeros(43))\n",
    "    logits = tf.matmul(fc2, fc3_W) + fc3_b\n",
    "    \n",
    "    return logits"
   ]
  },
  {
   "cell_type": "markdown",
   "metadata": {},
   "source": [
    "#### Features and Labels\n",
    "Train LeNet to classify German Traffic Sign data.\n",
    "\n",
    "`x` is a placeholder for a batch of input images.\n",
    "`y` is a placeholder for a batch of output labels."
   ]
  },
  {
   "cell_type": "code",
   "execution_count": 15,
   "metadata": {},
   "outputs": [
    {
     "name": "stdout",
     "output_type": "stream",
     "text": [
      "x= Tensor(\"Placeholder:0\", shape=(?, 32, 32, 1), dtype=float32)\n",
      "y= Tensor(\"Placeholder_1:0\", dtype=int32)\n",
      "one_hot_y= Tensor(\"one_hot:0\", dtype=float32)\n"
     ]
    }
   ],
   "source": [
    "x = tf.placeholder(tf.float32, (None, 32, 32, img_channel))\n",
    "y = tf.placeholder(tf.int32, (None))\n",
    "one_hot_y = tf.one_hot(y, 43)\n",
    "\n",
    "print ('x=', x)\n",
    "print ('y=', y)\n",
    "print ('one_hot_y=', one_hot_y)"
   ]
  },
  {
   "cell_type": "markdown",
   "metadata": {},
   "source": [
    "#### Train, Validate and Test the Model\n",
    "\n",
    "A validation set can be used to assess how well the model is performing. A low accuracy on the training and validation\n",
    "sets imply underfitting. A high accuracy on the training set but low accuracy on the validation set implies overfitting."
   ]
  },
  {
   "cell_type": "code",
   "execution_count": 16,
   "metadata": {},
   "outputs": [],
   "source": [
    "### Train your model here.\n",
    "### Calculate and report the accuracy on the training and validation set.\n",
    "### Once a final model architecture is selected, \n",
    "### the accuracy on the test set should be calculated and reported as well.\n",
    "### Feel free to use as many code cells as needed.\n",
    "\n",
    "logits = LeNet(x)\n",
    "#print ('logits.shape=', logits.shape)\n",
    "\n",
    "cross_entropy = tf.nn.softmax_cross_entropy_with_logits(labels=one_hot_y, logits=logits)\n",
    "loss_operation = tf.reduce_mean(cross_entropy)\n",
    "\n",
    "#training_operation = tf.train.AdamOptimizer(learning_rate = rate).minimize(loss_operation)\n",
    "optimizer = tf.train.AdamOptimizer(learning_rate = rate)\n",
    "training_operation = optimizer.minimize(loss_operation)"
   ]
  },
  {
   "cell_type": "markdown",
   "metadata": {},
   "source": [
    "#### Model Evaluation\n",
    "Evaluate how well the loss and accuracy of the model for a given dataset."
   ]
  },
  {
   "cell_type": "code",
   "execution_count": 17,
   "metadata": {},
   "outputs": [],
   "source": [
    "correct_prediction = tf.equal(tf.argmax(logits, 1), tf.argmax(one_hot_y, 1))\n",
    "accuracy_operation = tf.reduce_mean(tf.cast(correct_prediction, tf.float32))\n",
    "\n",
    "saver = tf.train.Saver()\n",
    "\n",
    "def evaluate(X_data, y_data):\n",
    "    num_examples = len(X_data)\n",
    "    total_accuracy = 0\n",
    "    sess = tf.get_default_session()\n",
    "    for offset in range(0, num_examples, BATCH_SIZE):\n",
    "        batch_x, batch_y = X_data[offset:offset+BATCH_SIZE], y_data[offset:offset+BATCH_SIZE]\n",
    "        accuracy = sess.run(accuracy_operation, feed_dict={x: batch_x, y: batch_y})\n",
    "        total_accuracy += (accuracy * len(batch_x))\n",
    "    #print ('evaluate.logits.shape=', logits.shape)\n",
    "    return total_accuracy / num_examples"
   ]
  },
  {
   "cell_type": "markdown",
   "metadata": {},
   "source": [
    "#### Train the Model\n",
    "Run the training data through the training pipeline to train the model.\n",
    "\n",
    "Before each epoch, shuffle the training set.\n",
    "\n",
    "After each epoch, measure the loss and accuracy of the validation set.\n",
    "\n",
    "Save the model after training.\n",
    "\n",
    "\"\"\"\n",
    "Training...\n",
    "\n",
    "EPOCH 1 ...\n",
    "Validation Accuracy = 0.816\n",
    "EPOCH 2 ...\n",
    "Validation Accuracy = 0.876\n",
    "EPOCH 3 ...\n",
    "Validation Accuracy = 0.887\n",
    "......\n",
    "EPOCH 48 ...\n",
    "Validation Accuracy = 0.956\n",
    "EPOCH 49 ...\n",
    "Validation Accuracy = 0.956\n",
    "EPOCH 50 ...\n",
    "Validation Accuracy = 0.956\n",
    "Model saved\n",
    "\"\"\"\n",
    "\n",
    "Intel I7-8750, carnd-term1: CPU training period: 65 seconds.\n"
   ]
  },
  {
   "cell_type": "code",
   "execution_count": 18,
   "metadata": {},
   "outputs": [
    {
     "name": "stdout",
     "output_type": "stream",
     "text": [
      "EPOCHS= 10\n",
      "learning_rate= 0.001\n",
      "BATCH_SIZE= 128\n",
      "X_train normalize samples= (34799, 32, 32, 1)\n",
      "Image channels= 1\n",
      "batchs= 271\n",
      "save_modle_dir= ./lenet_norm_equalizeHist/\n",
      "\n",
      "Start taining at  18:00    \n"
     ]
    }
   ],
   "source": [
    "print ('EPOCHS=', EPOCHS)\n",
    "print ('learning_rate=', rate)\n",
    "print ('BATCH_SIZE=', BATCH_SIZE)\n",
    "print ('X_train normalize samples=', X_train_norm.shape)\n",
    "print ('Image channels=', img_channel)\n",
    "print ('batchs=', len(X_train)//BATCH_SIZE)\n",
    "print ('save_modle_dir=', save_modle_dir)\n",
    "print ()\n",
    "print (\"Start taining at  18:00    \")"
   ]
  },
  {
   "cell_type": "code",
   "execution_count": 20,
   "metadata": {
    "scrolled": false
   },
   "outputs": [
    {
     "name": "stdout",
     "output_type": "stream",
     "text": [
      "Training...\n",
      "\n",
      "Epoch  1, Batch   0 \n",
      "Epoch  1, Batch 100 \n",
      "Epoch  1, Batch 200 \n",
      "EPOCH 1 ...\n",
      "Validation Accuracy = 0.784\n",
      "Epoch  2, Batch   0 \n",
      "Epoch  2, Batch 100 \n",
      "Epoch  2, Batch 200 \n",
      "EPOCH 2 ...\n",
      "Validation Accuracy = 0.859\n",
      "Epoch  3, Batch   0 \n",
      "Epoch  3, Batch 100 \n",
      "Epoch  3, Batch 200 \n",
      "EPOCH 3 ...\n",
      "Validation Accuracy = 0.883\n",
      "Epoch  4, Batch   0 \n",
      "Epoch  4, Batch 100 \n",
      "Epoch  4, Batch 200 \n",
      "EPOCH 4 ...\n",
      "Validation Accuracy = 0.902\n",
      "Epoch  5, Batch   0 \n",
      "Epoch  5, Batch 100 \n",
      "Epoch  5, Batch 200 \n",
      "EPOCH 5 ...\n",
      "Validation Accuracy = 0.907\n",
      "Epoch  6, Batch   0 \n",
      "Epoch  6, Batch 100 \n",
      "Epoch  6, Batch 200 \n",
      "EPOCH 6 ...\n",
      "Validation Accuracy = 0.909\n",
      "Epoch  7, Batch   0 \n",
      "Epoch  7, Batch 100 \n",
      "Epoch  7, Batch 200 \n",
      "EPOCH 7 ...\n",
      "Validation Accuracy = 0.911\n",
      "Epoch  8, Batch   0 \n",
      "Epoch  8, Batch 100 \n",
      "Epoch  8, Batch 200 \n",
      "EPOCH 8 ...\n",
      "Validation Accuracy = 0.910\n",
      "Epoch  9, Batch   0 \n",
      "Epoch  9, Batch 100 \n",
      "Epoch  9, Batch 200 \n",
      "EPOCH 9 ...\n",
      "Validation Accuracy = 0.913\n",
      "Epoch 10, Batch   0 \n",
      "Epoch 10, Batch 100 \n",
      "Epoch 10, Batch 200 \n",
      "EPOCH 10 ...\n",
      "Validation Accuracy = 0.900\n",
      "Model saved\n"
     ]
    }
   ],
   "source": [
    "with tf.Session() as sess:\n",
    "    sess.run(tf.global_variables_initializer())\n",
    "    num_examples = len(X_train_norm)\n",
    "    \n",
    "    print(\"Training...\")\n",
    "    print()\n",
    "    for i in range(EPOCHS):\n",
    "        X_train_norm, y_train = shuffle(X_train_norm, y_train)\n",
    "        for offset in range(0, num_examples, BATCH_SIZE):\n",
    "            end = offset + BATCH_SIZE\n",
    "            batch_x, batch_y = X_train_norm[offset:end], y_train[offset:end]\n",
    "            \n",
    "            #loss = sess.run(loss_operation, feed_dict={x: batch_x, y: batch_y})\n",
    "            \n",
    "            sess.run(training_operation, feed_dict={x: batch_x, y: batch_y})\n",
    "            \n",
    "            if (offset%(BATCH_SIZE*100) == 0):\n",
    "                print('Epoch {:>2}, Batch {:>3} '.format(i+1,(offset//BATCH_SIZE)))\n",
    "                    \n",
    "        validation_accuracy = evaluate(X_valid_norm, y_valid)\n",
    "        print(\"EPOCH {} ...\".format(i+1))\n",
    "        print(\"Validation Accuracy = {:.3f}\".format(validation_accuracy))\n",
    "        \n",
    "    saver.save(sess, save_modle_dir)\n",
    "    print(\"Model saved\")"
   ]
  },
  {
   "cell_type": "markdown",
   "metadata": {},
   "source": [
    "#### Evaluate the Model\n",
    "Once you are completely satisfied with your model, evaluate the performance of the model on the test set.\n",
    "\n",
    "Be sure to only do this once!\n",
    "\n",
    "If you were to measure the performance of your trained model on the test set, then improve your model, and then measure the performance of your model on the test set again, that would invalidate your test results. You wouldn't get a true measure of how well your model would perform against real data.\n",
    "\n",
    "You do not need to modify this section."
   ]
  },
  {
   "cell_type": "code",
   "execution_count": null,
   "metadata": {},
   "outputs": [],
   "source": [
    "with tf.Session() as sess:\n",
    "    saver.restore(sess, save_modle_dir)\n",
    "\n",
    "    test_accuracy = evaluate(X_test_norm, y_test)\n",
    "    print(\"Test Accuracy = {:.3f}\".format(test_accuracy))\n",
    "    "
   ]
  },
  {
   "cell_type": "markdown",
   "metadata": {},
   "source": [
    "### Random select test images for Evaluate the Model"
   ]
  },
  {
   "cell_type": "code",
   "execution_count": null,
   "metadata": {},
   "outputs": [],
   "source": [
    "import random\n",
    "import numpy as np\n",
    "import matplotlib.pyplot as plt\n",
    "%matplotlib inline\n",
    "\n",
    "img_num = 20\n",
    "indices = np.random.randint(0, len(X_test_norm), size=img_num)\n",
    "print ('Test images indices=',indices)\n",
    "\n",
    "X_test_norm_input = np.array(X_test_norm[indices])\n",
    "print ('X_test_norm_input.shape=', X_test_norm_input.shape)\n",
    "print ('X_test_norm_input[0].shape=', X_test_norm_input[:1].shape)\n",
    "print()\n",
    "\n",
    "y_test_input = y_test[indices]\n",
    "print ('y_test_input.shape=', y_test_input.shape, y_test_input)\n",
    "print('Test images:')\n",
    "plt.figure(figsize=(15,15))\n",
    "for i in range(len(indices)):   \n",
    "    image = X_test[indices[i]]\n",
    "    plt.subplot(1, img_num, i+1)\n",
    "    plt.title(y_test[indices[i]])\n",
    "    plt.imshow(image)\n",
    "plt.show()"
   ]
  },
  {
   "cell_type": "code",
   "execution_count": null,
   "metadata": {},
   "outputs": [],
   "source": [
    "\n",
    "with tf.Session() as sess:\n",
    "    saver.restore(sess, save_modle_dir)\n",
    "    print (\"\\n X_test_norm_input.shape=\", type(X_test_norm_input), X_test_norm_input.shape)#, inputX)\n",
    "    \n",
    "    output = sess.run(logits, feed_dict={x: X_test_norm_input})\n",
    "    predicts = sess.run(tf.argmax(output, 1))    \n",
    "    print(\"labels :\", y_test_input)\n",
    "    print(\"predict:\", predicts )\n",
    "    predict_num = np.sum(np.equal(y_test_input, predicts))\n",
    "    print(\"%d images predict right!\" %( predict_num))\n",
    "    print('Accuracy is {}%'.format((predict_num)/len(y_test_input) *100), 'on the test images.')\n",
    "        "
   ]
  },
  {
   "cell_type": "markdown",
   "metadata": {},
   "source": [
    "---\n",
    "\n",
    "## Step 3: Test a Model on New Images\n",
    "\n",
    "To give yourself more insight into how your model is working, download at least five pictures of German traffic signs from the web and use your model to predict the traffic sign type.\n",
    "\n",
    "You may find `signnames.csv` useful as it contains mappings from the class id (integer) to the actual sign name."
   ]
  },
  {
   "cell_type": "markdown",
   "metadata": {},
   "source": [
    "### Load and Output the New Test Images"
   ]
  },
  {
   "cell_type": "code",
   "execution_count": null,
   "metadata": {},
   "outputs": [],
   "source": [
    "### Load the images and plot them here.\n",
    "### Feel free to use as many code cells as needed.\n",
    "\n",
    "import os\n",
    "\n",
    "directory = \"./test_images/\"\n",
    "images_filenames = os.listdir(directory)\n",
    "images_filenames.sort()\n",
    "print ('images_filenames.len=', len(images_filenames), images_filenames)\n",
    "\n",
    "test_new_images = []\n",
    "for i, file in enumerate(images_filenames):\n",
    "    #print ('%d: %s' % (i, directory + file))\n",
    "    # It appears that the first file in the directory is some kind of navigation link ... in linux OS\n",
    "    if (file[0] != '.'): \n",
    "        #print ('%d: %s' % (i, directory + file))\n",
    "        img = plt.imread(directory + file)\n",
    "        test_new_images.append(img)\n",
    "\n",
    "# number of new images\n",
    "print(\"Number of new images: \", len(test_new_images))\n",
    "plt.figure(figsize=(15, 15))\n",
    "for i in range(len(test_new_images)):\n",
    "    plt.subplot(1, 10, i+1)\n",
    "    plt.imshow(test_new_images[i])\n",
    "plt.show()\n"
   ]
  },
  {
   "cell_type": "markdown",
   "metadata": {},
   "source": [
    "#### Pre-process the new images\n",
    "First the images are converted to gray image and then resized to 32x32"
   ]
  },
  {
   "cell_type": "code",
   "execution_count": null,
   "metadata": {},
   "outputs": [],
   "source": [
    "test_new_images_gray=[]\n",
    "for i, image in enumerate(test_new_images):\n",
    "    img = cv2.resize(image,(32,32))\n",
    "    if (img_channel == 1):\n",
    "        img = to_gray(img)\n",
    "        img = hist_equalize(img)\n",
    "        img = normalize_image(img)\n",
    "    else:\n",
    "        img = normalize(img)\n",
    "    test_new_images_gray.append(img)\n",
    "\n",
    "print(\"After normalize...test_new_images_gray[0].shape=\", test_new_images_gray[0].shape)\n",
    "\n",
    "\"\"\"\n",
    "plt.figure(figsize=(15, 15))\n",
    "for i in range(len(test_new_images_gray)):\n",
    "    plt.subplot(1, 10, i+1)\n",
    "    plt.imshow(test_new_images_gray[i],cmap='gray')\n",
    "plt.show()    \n",
    "\"\"\"\n",
    "#Convert the images list to np array\n",
    "test_new_images_processed = np.asarray(test_new_images_gray)\n",
    "\n",
    "# add the channel/depth dimension to each new image\n",
    "if (img_channel == 1):\n",
    "    test_new_images_processed = test_new_images_processed[...,None]\n",
    "\n",
    "print('After channel is added, test_new_images_processed.shape: ',test_new_images_processed.shape)\n",
    "\n",
    "# labels of the new images\n",
    "test_new_labels = np.array([28,25,38,27,12,11,33,14,1,18])\n",
    "print (\"len(test_new_labels)=\", test_new_labels.shape, test_new_labels)"
   ]
  },
  {
   "cell_type": "markdown",
   "metadata": {},
   "source": [
    "### Predict the Sign Type for Each Image"
   ]
  },
  {
   "cell_type": "code",
   "execution_count": null,
   "metadata": {},
   "outputs": [],
   "source": [
    "############# The simplest way to predict the test images #################\n",
    "with tf.Session() as sess:\n",
    "    saver.restore(sess, save_modle_dir)\n",
    "    print (\"test_new_images_processed.shape=\", type(test_new_images_processed), test_new_images_processed.shape)#, inputX)\n",
    "    \n",
    "    #output = sess.run(logits, feed_dict={x: X_input[:2]})\n",
    "    output = sess.run(logits, feed_dict={x: test_new_images_processed})\n",
    "    #print ('Output=', output) \n",
    "    predict_index = sess.run(tf.argmax(output, 1))\n",
    "    print(\"y lables :\", test_new_labels)\n",
    "    print(\"predicts :\", predict_index )\n",
    "    \n",
    "    predict_num = np.sum(np.equal(test_new_labels, predict_index))\n",
    "    print(\"%d images predict right!\" %( predict_num))\n",
    "    print('Accuracy is {}%'.format((predict_num)/len(test_new_labels) *100), 'on the test images.')\n",
    "        "
   ]
  },
  {
   "cell_type": "code",
   "execution_count": null,
   "metadata": {},
   "outputs": [],
   "source": [
    "### Run the predictions here and use the model to output the prediction for each image.\n",
    "### Make sure to pre-process the images with the same pre-processing pipeline used earlier.\n",
    "### Feel free to use as many code cells as needed.\n",
    "def get_predictions(img_data, label_data):\n",
    "    ''' Takes input image data and corresponding label data\n",
    "        and computes prediction \n",
    "        Returns list of predictions\n",
    "    '''\n",
    "    print('Prediction started ...')\n",
    "    predictions = []\n",
    "    with tf.Session() as sess:\n",
    "        saver.restore(sess, save_modle_dir)  # restore the session already saved\n",
    "        for i in range(len(img_data)):\n",
    "            # get prediction for each image (consider a single image as a batch)\n",
    "            batch_x, batch_y = [img_data[i]], [label_data[i]]\n",
    "            prediction = sess.run(accuracy_operation, feed_dict={x:batch_x, y:batch_y})\n",
    "            predictions.append(prediction)\n",
    "    return predictions\n",
    "\n",
    "# get the predictions for the new test images\n",
    "predicts = get_predictions(test_new_images_processed, test_new_labels)\n",
    "#predicts = get_predictions(X_test_norm, y_test)\n",
    "print('Test image | prediction ')\n",
    "print('--------------------------')\n",
    "print('length of test:',len(predicts))\n",
    "print('----Test completed -----')\n",
    "for i in range(len(predicts)):\n",
    "    print(' image_{} | {:.1f}'.format(i+1, predicts[i]))\n"
   ]
  },
  {
   "cell_type": "markdown",
   "metadata": {},
   "source": [
    "### Analyze Performance"
   ]
  },
  {
   "cell_type": "code",
   "execution_count": null,
   "metadata": {},
   "outputs": [],
   "source": [
    "### Calculate the accuracy for these 10 new images. \n",
    "### For example, if the model predicted 1 out of 5 signs correctly, it's 20% accurate on these new images.\n",
    "\n",
    "test_accuracy = np.sum(predicts)*100/len(predicts)\n",
    "print('Accuracy is {}%'.format(test_accuracy), 'on the test images.')\n"
   ]
  },
  {
   "cell_type": "markdown",
   "metadata": {},
   "source": [
    "### Output Top 5 Softmax Probabilities For Each Image Found on the Web"
   ]
  },
  {
   "cell_type": "markdown",
   "metadata": {},
   "source": [
    "For each of the new images, print out the model's softmax probabilities to show the **certainty** of the model's predictions (limit the output to the top 5 probabilities for each image). [`tf.nn.top_k`](https://www.tensorflow.org/versions/r0.12/api_docs/python/nn.html#top_k) could prove helpful here. \n",
    "\n",
    "The example below demonstrates how tf.nn.top_k can be used to find the top k predictions for each image.\n",
    "\n",
    "`tf.nn.top_k` will return the values and indices (class ids) of the top k predictions. So if k=3, for each sign, it'll return the 3 largest probabilities (out of a possible 43) and the correspoding class ids.\n",
    "\n",
    "Take this numpy array as an example. The values in the array represent predictions. The array contains softmax probabilities for five candidate images with six possible classes. `tf.nn.top_k` is used to choose the three classes with the highest probability:\n",
    "\n",
    "```\n",
    "# (5, 6) array\n",
    "a = np.array([[ 0.24879643,  0.07032244,  0.12641572,  0.34763842,  0.07893497,\n",
    "         0.12789202],\n",
    "       [ 0.28086119,  0.27569815,  0.08594638,  0.0178669 ,  0.18063401,\n",
    "         0.15899337],\n",
    "       [ 0.26076848,  0.23664738,  0.08020603,  0.07001922,  0.1134371 ,\n",
    "         0.23892179],\n",
    "       [ 0.11943333,  0.29198961,  0.02605103,  0.26234032,  0.1351348 ,\n",
    "         0.16505091],\n",
    "       [ 0.09561176,  0.34396535,  0.0643941 ,  0.16240774,  0.24206137,\n",
    "         0.09155967]])\n",
    "```\n",
    "\n",
    "Running it through `sess.run(tf.nn.top_k(tf.constant(a), k=3))` produces:\n",
    "\n",
    "```\n",
    "TopKV2(values=array([[ 0.34763842,  0.24879643,  0.12789202],\n",
    "       [ 0.28086119,  0.27569815,  0.18063401],\n",
    "       [ 0.26076848,  0.23892179,  0.23664738],\n",
    "       [ 0.29198961,  0.26234032,  0.16505091],\n",
    "       [ 0.34396535,  0.24206137,  0.16240774]]), indices=array([[3, 0, 5],\n",
    "       [0, 1, 4],\n",
    "       [0, 5, 1],\n",
    "       [1, 3, 5],\n",
    "       [1, 4, 3]], dtype=int32))\n",
    "```\n",
    "\n",
    "Looking just at the first row we get `[ 0.34763842,  0.24879643,  0.12789202]`, you can confirm these are the 3 largest probabilities in `a`. You'll also notice `[3, 0, 5]` are the corresponding indices."
   ]
  },
  {
   "cell_type": "code",
   "execution_count": null,
   "metadata": {},
   "outputs": [],
   "source": [
    "### Print out the top five softmax probabilities for the predictions on the German traffic sign images found on the web. \n",
    "### Feel free to use as many code cells as needed.\n",
    "### Print out the top five softmax probabilities for the predictions on the German traffic sign images found on the web. \n",
    "### Feel free to use as many code cells as needed.\n",
    "\n",
    "top_k = 5\n",
    "probabilities=[]\n",
    "\n",
    "with tf.Session() as sess:\n",
    "    saver.restore(sess, save_modle_dir)  # restore the session already saved\n",
    "    for i in range(len(test_new_images_processed)):\n",
    "        softmax = tf.nn.softmax(logits)\n",
    "        top_five = tf.nn.top_k(softmax, k = top_k)\n",
    "        \n",
    "        # get prediction for each image (consider a single image as a batch)\n",
    "        batch_x = [test_new_images_processed[i]]\n",
    "        probability = sess.run(top_five, feed_dict={x:batch_x})\n",
    "        probabilities.append(probability)\n",
    "\n",
    "idx = 0 \n",
    "for prob in probabilities:\n",
    "    labels = prob.indices\n",
    "    probs = prob.values\n",
    "    \n",
    "    print((idx+1),'True sign: label', test_new_labels[idx], '-', id_to_name[test_new_labels[idx]])\n",
    "    #print('    ---------')\n",
    "    for i in range(len(labels[0])):\n",
    "        print('  Predict. sign {}:'.format(i+1), '{:.2f} % '.format(probs[0][i]*100), '{}-'.format(labels[0][i]),\n",
    "              '{}'.format(id_to_name[labels[0][i]]))\n",
    "    \n",
    "    if test_new_labels[idx] !=labels[0][0]:\n",
    "        print('   --------------------------------')\n",
    "        print('  INCORRECT classification')\n",
    "    idx += 1\n",
    "    print('-------------------------------------')\n",
    "##############\n"
   ]
  },
  {
   "cell_type": "markdown",
   "metadata": {},
   "source": [
    "### Project Writeup\n",
    "\n",
    "Once you have completed the code implementation, document your results in a project writeup using this [template](https://github.com/udacity/CarND-Traffic-Sign-Classifier-Project/blob/master/writeup_template.md) as a guide. The writeup can be in a markdown or pdf file. "
   ]
  },
  {
   "cell_type": "markdown",
   "metadata": {},
   "source": [
    "> **Note**: Once you have completed all of the code implementations and successfully answered each question above, you may finalize your work by exporting the iPython Notebook as an HTML document. You can do this by using the menu above and navigating to  \\n\",\n",
    "    \"**File -> Download as -> HTML (.html)**. Include the finished document along with this notebook as your submission."
   ]
  },
  {
   "cell_type": "markdown",
   "metadata": {},
   "source": [
    "---\n",
    "\n",
    "## Step 4 (Optional): Visualize the Neural Network's State with Test Images\n",
    "\n",
    " This Section is not required to complete but acts as an additional excersise for understaning the output of a neural network's weights. While neural networks can be a great learning device they are often referred to as a black box. We can understand what the weights of a neural network look like better by plotting their feature maps. After successfully training your neural network you can see what it's feature maps look like by plotting the output of the network's weight layers in response to a test stimuli image. From these plotted feature maps, it's possible to see what characteristics of an image the network finds interesting. For a sign, maybe the inner network feature maps react with high activation to the sign's boundary outline or to the contrast in the sign's painted symbol.\n",
    "\n",
    " Provided for you below is the function code that allows you to get the visualization output of any tensorflow weight layer you want. The inputs to the function should be a stimuli image, one used during training or a new one you provided, and then the tensorflow variable name that represents the layer's state during the training process, for instance if you wanted to see what the [LeNet lab's](https://classroom.udacity.com/nanodegrees/nd013/parts/fbf77062-5703-404e-b60c-95b78b2f3f9e/modules/6df7ae49-c61c-4bb2-a23e-6527e69209ec/lessons/601ae704-1035-4287-8b11-e2c2716217ad/concepts/d4aca031-508f-4e0b-b493-e7b706120f81) feature maps looked like for it's second convolutional layer you could enter conv2 as the tf_activation variable.\n",
    "\n",
    "For an example of what feature map outputs look like, check out NVIDIA's results in their paper [End-to-End Deep Learning for Self-Driving Cars](https://devblogs.nvidia.com/parallelforall/deep-learning-self-driving-cars/) in the section Visualization of internal CNN State. NVIDIA was able to show that their network's inner weights had high activations to road boundary lines by comparing feature maps from an image with a clear path to one without. Try experimenting with a similar test to show that your trained network's weights are looking for interesting features, whether it's looking at differences in feature maps from images with or without a sign, or even what feature maps look like in a trained network vs a completely untrained one on the same sign image.\n",
    "\n",
    "<figure>\n",
    " <img src=\"visualize_cnn.png\" width=\"380\" alt=\"Combined Image\" />\n",
    " <figcaption>\n",
    " <p></p> \n",
    " <p style=\"text-align: center;\"> Your output should look something like this (above)</p> \n",
    " </figcaption>\n",
    "</figure>\n",
    " <p></p> \n"
   ]
  },
  {
   "cell_type": "code",
   "execution_count": null,
   "metadata": {},
   "outputs": [],
   "source": [
    "### Visualize your network's feature maps here.\n",
    "### Feel free to use as many code cells as needed.\n",
    "\n",
    "# image_input: the test image being fed into the network to produce the feature maps\n",
    "# tf_activation: should be a tf variable name used during your training procedure that represents the calculated state of a specific weight layer\n",
    "# activation_min/max: can be used to view the activation contrast in more detail, by default matplot sets min and max to the actual min and max values of the output\n",
    "# plt_num: used to plot out multiple different weight feature map sets on the same block, just extend the plt number for each new feature map entry\n",
    "\n",
    "def outputFeatureMap(image_input, tf_activation, activation_min=-1, activation_max=-1 ,plt_num=1):\n",
    "    # Here make sure to preprocess your image_input in a way your network expects\n",
    "    # with size, normalization, ect if needed\n",
    "    # image_input =\n",
    "    # Note: x should be the same name as your network's tensorflow data placeholder variable\n",
    "    # If you get an error tf_activation is not defined it may be having trouble accessing the variable from inside a function\n",
    "    activation = tf_activation.eval(session=sess,feed_dict={x : image_input})\n",
    "    featuremaps = activation.shape[3]\n",
    "    plt.figure(plt_num, figsize=(15,15))\n",
    "    for featuremap in range(featuremaps):\n",
    "        plt.subplot(6,8, featuremap+1) # sets the number of feature maps to show on each row and column\n",
    "        plt.title('FeatureMap ' + str(featuremap)) # displays the feature map number\n",
    "        if activation_min != -1 & activation_max != -1:\n",
    "            plt.imshow(activation[0,:,:, featuremap], interpolation=\"nearest\", vmin =activation_min, vmax=activation_max, cmap=\"gray\")\n",
    "        elif activation_max != -1:\n",
    "            plt.imshow(activation[0,:,:, featuremap], interpolation=\"nearest\", vmax=activation_max, cmap=\"gray\")\n",
    "        elif activation_min !=-1:\n",
    "            plt.imshow(activation[0,:,:, featuremap], interpolation=\"nearest\", vmin=activation_min, cmap=\"gray\")\n",
    "        else:\n",
    "            plt.imshow(activation[0,:,:, featuremap], interpolation=\"nearest\", cmap=\"gray\")"
   ]
  }
 ],
 "metadata": {
  "anaconda-cloud": {},
  "kernelspec": {
   "display_name": "Python carnd-term1-gpu-tf18-py36",
   "language": "python",
   "name": "carnd-term1-gpu-tf18-py36"
  },
  "language_info": {
   "codemirror_mode": {
    "name": "ipython",
    "version": 3
   },
   "file_extension": ".py",
   "mimetype": "text/x-python",
   "name": "python",
   "nbconvert_exporter": "python",
   "pygments_lexer": "ipython3",
   "version": "3.5.2"
  },
  "widgets": {
   "state": {},
   "version": "1.1.2"
  }
 },
 "nbformat": 4,
 "nbformat_minor": 1
}
